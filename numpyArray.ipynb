{
  "nbformat": 4,
  "nbformat_minor": 0,
  "metadata": {
    "colab": {
      "provenance": []
    },
    "kernelspec": {
      "name": "python3",
      "display_name": "Python 3"
    },
    "language_info": {
      "name": "python"
    }
  },
  "cells": [
    {
      "cell_type": "code",
      "execution_count": null,
      "metadata": {
        "id": "AVsRbUMZedkp"
      },
      "outputs": [],
      "source": [
        "import numpy as np"
      ]
    },
    {
      "cell_type": "code",
      "source": [
        "arr=np.array([[1,2],[3,4]])\n",
        "print(arr)\n",
        "print(type(arr))\n",
        "print(arr.shape) # check shape of array"
      ],
      "metadata": {
        "colab": {
          "base_uri": "https://localhost:8080/"
        },
        "id": "XupcgDAPesNm",
        "outputId": "f6645d5c-557d-49dc-d5d3-a540ca29bfce"
      },
      "execution_count": null,
      "outputs": [
        {
          "output_type": "stream",
          "name": "stdout",
          "text": [
            "[[1 2]\n",
            " [3 4]]\n",
            "<class 'numpy.ndarray'>\n",
            "(2, 2)\n"
          ]
        }
      ]
    },
    {
      "cell_type": "code",
      "source": [
        "arr.ndim # dimension of array"
      ],
      "metadata": {
        "colab": {
          "base_uri": "https://localhost:8080/"
        },
        "id": "SNf-RwrNfCgn",
        "outputId": "55bbb665-caf8-4b4c-adce-7b9eb3359263"
      },
      "execution_count": null,
      "outputs": [
        {
          "output_type": "execute_result",
          "data": {
            "text/plain": [
              "2"
            ]
          },
          "metadata": {},
          "execution_count": 5
        }
      ]
    },
    {
      "cell_type": "code",
      "source": [
        "print(arr.data) #memory location of array\n",
        "print(id(arr))"
      ],
      "metadata": {
        "colab": {
          "base_uri": "https://localhost:8080/"
        },
        "id": "5CX5h4nFfRRJ",
        "outputId": "2796af9a-6a94-452d-f5c4-ac1f2145d27f"
      },
      "execution_count": null,
      "outputs": [
        {
          "output_type": "stream",
          "name": "stdout",
          "text": [
            "<memory at 0x7f1e666a1790>\n",
            "139768543366768\n"
          ]
        }
      ]
    },
    {
      "cell_type": "markdown",
      "source": [
        "Random number generate"
      ],
      "metadata": {
        "id": "Yo4Id4Gqh1Ae"
      }
    },
    {
      "cell_type": "code",
      "source": [
        "from numpy import random\n",
        "x=random.randint(100) # generate random no. in between 1 to 100 including 1 and 100\n",
        "print(x)"
      ],
      "metadata": {
        "colab": {
          "base_uri": "https://localhost:8080/"
        },
        "id": "mHtpJkxmh72j",
        "outputId": "a4869ded-99da-4448-d835-50eb93f2618e"
      },
      "execution_count": null,
      "outputs": [
        {
          "output_type": "stream",
          "name": "stdout",
          "text": [
            "53\n"
          ]
        }
      ]
    },
    {
      "cell_type": "code",
      "source": [
        "print(type(x))"
      ],
      "metadata": {
        "colab": {
          "base_uri": "https://localhost:8080/"
        },
        "id": "pJwuh6rJjEDM",
        "outputId": "0cfb7760-88f6-4766-8e55-4689280c9646"
      },
      "execution_count": null,
      "outputs": [
        {
          "output_type": "stream",
          "name": "stdout",
          "text": [
            "<class 'int'>\n"
          ]
        }
      ]
    },
    {
      "cell_type": "code",
      "source": [
        "#generate random float (generate random float in between 0 to 1)\n",
        "y=random.rand() \n",
        "print(y)"
      ],
      "metadata": {
        "colab": {
          "base_uri": "https://localhost:8080/"
        },
        "id": "gerhb-_kjG6Y",
        "outputId": "57e0fe41-94db-499b-ca78-969d43f86092"
      },
      "execution_count": null,
      "outputs": [
        {
          "output_type": "stream",
          "name": "stdout",
          "text": [
            "0.9082054364996627\n"
          ]
        }
      ]
    },
    {
      "cell_type": "code",
      "source": [
        "#generate random array\n",
        "x=random.randint(5,10,size=(2,4)) # size will give 2X4  matrix"
      ],
      "metadata": {
        "id": "NfQNTmBIjQLB"
      },
      "execution_count": null,
      "outputs": []
    },
    {
      "cell_type": "code",
      "source": [
        "print(x)"
      ],
      "metadata": {
        "colab": {
          "base_uri": "https://localhost:8080/"
        },
        "id": "OmqniirulUvL",
        "outputId": "b8941870-dd84-460e-b789-5ebeac688957"
      },
      "execution_count": null,
      "outputs": [
        {
          "output_type": "stream",
          "name": "stdout",
          "text": [
            "[[5 5 6 7]\n",
            " [6 9 7 5]]\n"
          ]
        }
      ]
    },
    {
      "cell_type": "markdown",
      "source": [
        "Scalar in numpy"
      ],
      "metadata": {
        "id": "X-t1Wcj0lyOd"
      }
    },
    {
      "cell_type": "code",
      "source": [
        "# array to number\n",
        "inputarr=np.array([7])\n",
        "print(inputarr)\n",
        "print(type(inputarr))\n",
        "\n",
        "#asscalar() method --> can only apply in 1-d array with 1 element\n",
        "outputarr=np.asscalar(inputarr)\n",
        "print(outputarr)\n",
        "print(type(outputarr))"
      ],
      "metadata": {
        "colab": {
          "base_uri": "https://localhost:8080/"
        },
        "id": "la2nzDw1l3p-",
        "outputId": "21bd899c-49e3-4729-a3a9-0d8864f93256"
      },
      "execution_count": null,
      "outputs": [
        {
          "output_type": "stream",
          "name": "stdout",
          "text": [
            "[7]\n",
            "<class 'numpy.ndarray'>\n",
            "7\n",
            "<class 'int'>\n"
          ]
        },
        {
          "output_type": "stream",
          "name": "stderr",
          "text": [
            "<ipython-input-36-b15105f798b2>:7: DeprecationWarning: np.asscalar(a) is deprecated since NumPy v1.16, use a.item() instead\n",
            "  outputarr=np.asscalar(inputarr)\n"
          ]
        }
      ]
    },
    {
      "cell_type": "markdown",
      "source": [
        "vector in numpy"
      ],
      "metadata": {
        "id": "MPfqQJQWok-G"
      }
    },
    {
      "cell_type": "code",
      "source": [
        "#list to array\n",
        "#create 1-D list horizontally\n",
        "list1=[1,23,5]\n",
        "list2=[[10],\n",
        "       [20],\n",
        "       [30]]\n",
        "print(list1)\n",
        "print(list2)\n",
        "print(len(list1))\n",
        "print(len(list2))\n",
        "\n",
        "vector1=np.array(list1)\n",
        "vector2=np.array(list2)\n",
        "print(\"Horizontal vector\",vector1)\n",
        "print(\"vertical vector\",vector2)\n",
        "\n",
        "print(type(vector1))\n",
        "print(type(vector2))"
      ],
      "metadata": {
        "colab": {
          "base_uri": "https://localhost:8080/"
        },
        "id": "eQnaJQW6ooLl",
        "outputId": "574a437d-c282-4bd0-c30e-750f734752d0"
      },
      "execution_count": null,
      "outputs": [
        {
          "output_type": "stream",
          "name": "stdout",
          "text": [
            "[1, 23, 5]\n",
            "[[10], [20], [30]]\n",
            "3\n",
            "3\n",
            "Horizontal vector [ 1 23  5]\n",
            "vertical vector [[10]\n",
            " [20]\n",
            " [30]]\n",
            "<class 'numpy.ndarray'>\n",
            "<class 'numpy.ndarray'>\n"
          ]
        }
      ]
    },
    {
      "cell_type": "markdown",
      "source": [
        "matrix using numpy"
      ],
      "metadata": {
        "id": "P_BLvh9Up8G5"
      }
    },
    {
      "cell_type": "code",
      "source": [
        "a=np.matrix('1 25;3 4')\n",
        "print(a)\n",
        "print(a.shape)\n",
        "print(type(a))\n",
        "\n",
        "b=np.array(a)\n",
        "print(b)\n",
        "print(type(b))"
      ],
      "metadata": {
        "colab": {
          "base_uri": "https://localhost:8080/"
        },
        "id": "pYWrKEqwqBB6",
        "outputId": "3e27a85d-349c-44c7-9fe4-282d99897fd5"
      },
      "execution_count": null,
      "outputs": [
        {
          "output_type": "stream",
          "name": "stdout",
          "text": [
            "[[ 1 25]\n",
            " [ 3  4]]\n",
            "(2, 2)\n",
            "<class 'numpy.matrix'>\n",
            "[[ 1 25]\n",
            " [ 3  4]]\n",
            "<class 'numpy.ndarray'>\n"
          ]
        }
      ]
    },
    {
      "cell_type": "markdown",
      "source": [
        "Matrix Multiplication"
      ],
      "metadata": {
        "id": "gMUPxgfzrZZp"
      }
    },
    {
      "cell_type": "code",
      "source": [
        "A=5\n",
        "B=[[20,4],[6,9]]\n",
        "print(np.dot(A,B))"
      ],
      "metadata": {
        "colab": {
          "base_uri": "https://localhost:8080/"
        },
        "id": "1-gc7avFrgKF",
        "outputId": "714e6e7c-8e49-42da-f2c8-47818cc5d8fe"
      },
      "execution_count": null,
      "outputs": [
        {
          "output_type": "stream",
          "name": "stdout",
          "text": [
            "[[100  20]\n",
            " [ 30  45]]\n"
          ]
        }
      ]
    },
    {
      "cell_type": "code",
      "source": [
        "A=[[5,6],[8,9]]\n",
        "B=[[9,7],[8,7]]\n",
        "print(np.dot(A,B))"
      ],
      "metadata": {
        "colab": {
          "base_uri": "https://localhost:8080/"
        },
        "id": "lyT4YG3ytVk_",
        "outputId": "50d62b59-5416-466d-9ae0-d14bd5aece9b"
      },
      "execution_count": null,
      "outputs": [
        {
          "output_type": "stream",
          "name": "stdout",
          "text": [
            "[[ 93  77]\n",
            " [144 119]]\n"
          ]
        }
      ]
    }
  ]
}